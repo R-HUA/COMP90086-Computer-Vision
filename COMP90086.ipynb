{
 "cells": [
  {
   "cell_type": "markdown",
   "metadata": {},
   "source": [
    "### The University of Melbourne, School of Computing and Information Systems\n",
    "# COMP90086 Computer Vision, 2022 Semester 2\n",
    "\n",
    "## Assignment"
   ]
  },
  {
   "cell_type": "code",
   "execution_count": null,
   "outputs": [],
   "source": [
    "import os\n",
    "import cv2\n",
    "import numpy as np\n",
    "from tqdm import tqdm"
   ],
   "metadata": {
    "collapsed": false,
    "pycharm": {
     "is_executing": true
    }
   }
  },
  {
   "cell_type": "markdown",
   "metadata": {},
   "source": [
    "Question 1"
   ]
  },
  {
   "cell_type": "code",
   "execution_count": null,
   "metadata": {},
   "outputs": [],
   "source": [
    "def ssd(imgL,imgR,window_size,max_offset):\n",
    "    width, height = imgL.shape[:2]\n",
    "    disparity = np.zeros((width, height), np.uint8)\n",
    "\n",
    "    for i in tqdm(range(window_size//2, width-window_size//2)):\n",
    "        for j in range(window_size//2, height-window_size//2):\n",
    "            min_ssd = 65535\n",
    "            for k in range(max_offset):\n",
    "                if j-k < window_size//2:\n",
    "                    break\n",
    "                ssd = np.sum((imgL[i-window_size//2:i+window_size//2+1, j-window_size//2:j+window_size//2+1] - imgR[i-window_size//2:i+window_size//2+1, j-window_size//2-k:j+window_size//2+1-k])**2)\n",
    "                if ssd < min_ssd:\n",
    "                    min_ssd = ssd\n",
    "                    disparity[i,j] = k\n",
    "    return disparity"
   ]
  },
  {
   "cell_type": "markdown",
   "metadata": {},
   "source": [
    "\n"
   ]
  },
  {
   "cell_type": "code",
   "execution_count": null,
   "metadata": {
    "pycharm": {
     "is_executing": true
    }
   },
   "outputs": [],
   "source": [
    "def ncc(imgL,imgR,window_size,max_offset):\n",
    "    width, height = imgL.shape[:2]\n",
    "    disparity = np.zeros((width, height), np.uint8)\n",
    "\n",
    "    for i in tqdm(range(window_size//2, width-window_size//2)):\n",
    "        for j in range(window_size//2, height-window_size//2):\n",
    "            max_ncc = -1\n",
    "            for k in range(max_offset):\n",
    "                if j-k < window_size//2:\n",
    "                    break\n",
    "                ncc = np.sum((imgL[i-window_size//2:i+window_size//2+1, j-window_size//2:j+window_size//2+1] - np.mean(imgL[i-window_size//2:i+window_size//2+1, j-window_size//2:j+window_size//2+1])) * (imgR[i-window_size//2:i+window_size//2+1, j-window_size//2-k:j+window_size//2+1-k] - np.mean(imgR[i-window_size//2:i+window_size//2+1, j-window_size//2-k:j+window_size//2+1-k]))) / (np.sqrt(np.sum((imgL[i-window_size//2:i+window_size//2+1, j-window_size//2:j+window_size//2+1] - np.mean(imgL[i-window_size//2:i+window_size//2+1, j-window_size//2:j+window_size//2+1]))**2)) * np.sqrt(np.sum((imgR[i-window_size//2:i+window_size//2+1, j-window_size//2-k:j+window_size//2+1-k] - np.mean(imgR[i-window_size//2:i+window_size//2+1, j-window_size//2-k:j+window_size//2+1-k]))**2)))\n",
    "                if ncc > max_ncc:\n",
    "                    max_ncc = ncc\n",
    "                    disparity[i,j] = k\n",
    "    return disparity"
   ]
  },
  {
   "cell_type": "markdown",
   "metadata": {},
   "source": []
  },
  {
   "cell_type": "code",
   "execution_count": null,
   "metadata": {
    "pycharm": {
     "is_executing": true
    }
   },
   "outputs": [],
   "source": [
    "# read images\n",
    "imgL = cv2.imread('left.jpg', cv2.IMREAD_GRAYSCALE)\n",
    "imgR = cv2.imread('right.jpg', cv2.IMREAD_GRAYSCALE)\n",
    "# SSD\n",
    "print(\"SSD\")\n",
    "disparity = ssd(imgL,imgR,5,64)\n",
    "cv2.imwrite('ssd.png', disparity)\n",
    "# NCC\n",
    "print(\"NCC\")\n",
    "disparity = ncc(imgL,imgR,5,64)\n",
    "cv2.imwrite('ncc.png', disparity)"
   ]
  },
  {
   "cell_type": "markdown",
   "metadata": {},
   "source": []
  },
  {
   "cell_type": "code",
   "execution_count": 79,
   "metadata": {
    "pycharm": {
     "is_executing": true
    }
   },
   "outputs": [],
   "source": []
  },
  {
   "cell_type": "code",
   "execution_count": 80,
   "metadata": {},
   "outputs": [],
   "source": []
  }
 ],
 "metadata": {
  "kernelspec": {
   "display_name": "Python 3 (ipykernel)",
   "language": "python",
   "name": "python3"
  },
  "language_info": {
   "codemirror_mode": {
    "name": "ipython",
    "version": 3
   },
   "file_extension": ".py",
   "mimetype": "text/x-python",
   "name": "python",
   "nbconvert_exporter": "python",
   "pygments_lexer": "ipython3",
   "version": "3.7.13"
  },
  "vscode": {
   "interpreter": {
    "hash": "e42634819b8c191a5d07eaf23810ff32516dd8d3875f28ec3e488928fbd3c187"
   }
  }
 },
 "nbformat": 4,
 "nbformat_minor": 4
}
